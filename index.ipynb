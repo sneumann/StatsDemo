{
 "cells": [
  {
   "cell_type": "markdown",
   "metadata": {},
   "source": [
    "R Code pulled from https://www.statmethods.net/advgraphs/ggplot2.html"
   ]
  },
  {
   "cell_type": "code",
   "execution_count": 1,
   "metadata": {},
   "outputs": [],
   "source": [
    "# ggplot2 examples\n",
    "library(ggplot2) "
   ]
  },
  {
   "cell_type": "code",
   "execution_count": 2,
   "metadata": {},
   "outputs": [],
   "source": [
    "# create factors with value labels \n",
    "mtcars$gear <- factor(mtcars$gear,levels=c(3,4,5),\n",
    "  \tlabels=c(\"3gears\",\"4gears\",\"5gears\")) \n",
    "mtcars$am <- factor(mtcars$am,levels=c(0,1),\n",
    "  \tlabels=c(\"Automatic\",\"Manual\")) \n",
    "mtcars$cyl <- factor(mtcars$cyl,levels=c(4,6,8),\n",
    "   labels=c(\"4cyl\",\"6cyl\",\"8cyl\")) "
   ]
  },
  {
   "cell_type": "code",
   "execution_count": 3,
   "metadata": {},
   "outputs": [
    {
     "data": {},
     "metadata": {},
     "output_type": "display_data"
    },
    {
     "data": {
      "image/png": "iVBORw0KGgoAAAANSUhEUgAAA0gAAANICAIAAAByhViMAAAACXBIWXMAABJ0AAASdAHeZh94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\ne2Zm5
      "text/plain": [
       "plot without title"
      ]
     },
     "metadata": {},
     "output_type": "display_data"
    }
   ],
   "source": [
    "# Kernel density plots for mpg\n",
    "# grouped by number of gears (indicated by color)\n",
    "qplot(mpg, data=mtcars, geom=\"density\", fill=gear, alpha=I(.5), \n",
    "   main=\"Distribution of Gas Milage\", xlab=\"Miles Per Gallon\", \n",
    "   ylab=\"Density\")"
   ]
  },
  {
   "cell_type": "code",
   "execution_count": 4,
   "metadata": {},
   "outputs": [
    {
     "data": {},
     "metadata": {},
     "output_type": "display_data"
    },
    {
     "data": {
      "image/png": "iVBORw0KGgoAAAANSUhEUgAAA0gAAANICAIAAAByhViMAAAACXBIWXMAABJ0AAASdAHeZh94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\n0zSp4
      "text/plain": [
       "plot without title"
      ]
     },
     "metadata": {},
     "output_type": "display_data"
    }
   ],
   "source": [
    "# Scatterplot of mpg vs. hp for each combination of gears and cylinders\n",
    "# in each facet, transmittion type is represented by shape and color\n",
    "qplot(hp, mpg, data=mtcars, shape=am, color=am, \n",
    "   facets=gear~cyl, size=I(3),\n",
    "   xlab=\"Horsepower\", ylab=\"Miles per Gallon\") "
   ]
  },
  {
   "cell_type": "code",
   "execution_count": 5,
   "metadata": {},
   "outputs": [
    {
     "name": "stderr",
     "output_type": "stream",
     "text": [
      "Warning message:\n",
      "“Ignoring unknown parameters: method, formula”"
     ]
    },
    {
     "data": {},
     "metadata": {},
     "output_type": "display_data"
    },
    {
     "data": {
      "image/png": "iVBORw0KGgoAAAANSUhEUgAAA0gAAANICAIAAAByhViMAAAACXBIWXMAABJ0AAASdAHeZh94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\nnjx5y
      "text/plain": [
       "plot without title"
      ]
     },
     "metadata": {},
     "output_type": "display_data"
    }
   ],
   "source": [
    "# Separate regressions of mpg on weight for each number of cylinders\n",
    "qplot(wt, mpg, data=mtcars, geom=c(\"point\", \"smooth\"), \n",
    "   method=\"lm\", formula=y~x, color=cyl, \n",
    "   main=\"Regression of MPG on Weight\", \n",
    "   xlab=\"Weight\", ylab=\"Miles per Gallon\")"
   ]
  },
  {
   "cell_type": "code",
   "execution_count": 6,
   "metadata": {},
   "outputs": [
    {
     "data": {},
     "metadata": {},
     "output_type": "display_data"
    },
    {
     "data": {
      "image/png": "iVBORw0KGgoAAAANSUhEUgAAA0gAAANICAIAAAByhViMAAAACXBIWXMAABJ0AAASdAHeZh94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\nN2/++
      "text/plain": [
       "plot without title"
      ]
     },
     "metadata": {},
     "output_type": "display_data"
    }
   ],
   "source": [
    "# Boxplots of mpg by number of gears \n",
    "# observations (points) are overlayed and jittered\n",
    "qplot(gear, mpg, data=mtcars, geom=c(\"boxplot\", \"jitter\"), \n",
    "   fill=gear, main=\"Mileage by Gear Number\",\n",
    "   xlab=\"\", ylab=\"Miles per Gallon\")"
   ]
  },
  {
   "cell_type": "code",
   "execution_count": null,
   "metadata": {},
   "outputs": [],
   "source": []
  }
 ],
 "metadata": {
  "kernelspec": {
   "display_name": "R",
   "language": "R",
   "name": "ir"
  },
  "language_info": {
   "codemirror_mode": "r",
   "file_extension": ".r",
   "mimetype": "text/x-r-source",
   "name": "R",
   "pygments_lexer": "r",
   "version": "3.4.2"
  }
 },
 "nbformat": 4,
 "nbformat_minor": 2
}
